{
  "nbformat": 4,
  "nbformat_minor": 0,
  "metadata": {
    "colab": {
      "provenance": [],
      "authorship_tag": "ABX9TyOF2MvPBhxl/h2mdPD1O1B5",
      "include_colab_link": true
    },
    "kernelspec": {
      "name": "python3",
      "display_name": "Python 3"
    },
    "language_info": {
      "name": "python"
    }
  },
  "cells": [
    {
      "cell_type": "markdown",
      "metadata": {
        "id": "view-in-github",
        "colab_type": "text"
      },
      "source": [
        "<a href=\"https://colab.research.google.com/github/arunpalanoor/Experiments/blob/main/ab_testing.ipynb\" target=\"_parent\"><img src=\"https://colab.research.google.com/assets/colab-badge.svg\" alt=\"Open In Colab\"/></a>"
      ]
    },
    {
      "cell_type": "markdown",
      "source": [
        "# Overview\n",
        "\n",
        "A/B testing is one of the most powerful tools in a data scientist’s arsenal-especially when you're trying to make evidence-based decisions in product development, UX design, or process optimization. A/B testing could be a natural extension for validating changes before full-scale rollout."
      ],
      "metadata": {
        "id": "R-nbujd6zFH3"
      }
    },
    {
      "cell_type": "markdown",
      "source": [
        "## What Is A/B Testing?\n",
        "At its core, A/B testing is a randomized experiment where you compare two versions (A and B) of a variable—like a webpage, algorithm, or dashboard layout—to determine which performs better based on a defined metric (e.g., click-through rate, conversion, yield).\n",
        "We keep all elements/variable constant, except the 1 we want to test.\n"
      ],
      "metadata": {
        "id": "hOM1gVKYzakk"
      }
    },
    {
      "cell_type": "code",
      "execution_count": null,
      "metadata": {
        "id": "-1N2EZBozCV0"
      },
      "outputs": [],
      "source": []
    }
  ]
}